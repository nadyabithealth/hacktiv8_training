{
 "cells": [
  {
   "cell_type": "markdown",
   "metadata": {},
   "source": [
    "# SESI 14 - Python Fundamental"
   ]
  },
  {
   "cell_type": "markdown",
   "metadata": {},
   "source": [
    "## if"
   ]
  },
  {
   "cell_type": "markdown",
   "metadata": {},
   "source": [
    "* buatlah program python yang menerima 2 angka sebagai input, dan print angka yang lebih besar\n"
   ]
  },
  {
   "cell_type": "code",
   "execution_count": 2,
   "metadata": {},
   "outputs": [
    {
     "name": "stdout",
     "output_type": "stream",
     "text": [
      "3.0 is greater.\n"
     ]
    }
   ],
   "source": [
    "num1 = float(input(\"Enter the first number: \"))\n",
    "num2 = float(input(\"Enter the second number: \"))\n",
    "\n",
    "if num1 > num2:\n",
    "    print(f\"{num1} is greater.\")\n",
    "elif num2 > num1:\n",
    "    print(f\"{num2} is greater.\")\n",
    "else:\n",
    "    print(\"Both numbers are equal.\")\n"
   ]
  },
  {
   "cell_type": "markdown",
   "metadata": {},
   "source": [
    "* buatlah program python yang bisa mengecek apakaha tahun ini termasuk tahun kabisat atau bukan"
   ]
  },
  {
   "cell_type": "code",
   "execution_count": 4,
   "metadata": {},
   "outputs": [
    {
     "name": "stdout",
     "output_type": "stream",
     "text": [
      "2023 is not a leap year.\n"
     ]
    }
   ],
   "source": [
    "year = int(input(\"Enter a year: \"))\n",
    "\n",
    "if (year % 4 == 0 and year % 100 != 0) or (year % 400 == 0):\n",
    "    print(f\"(year) is a leap year.\")\n",
    "else:\n",
    "    print(f\"{year} is not a leap year.\")"
   ]
  },
  {
   "cell_type": "markdown",
   "metadata": {},
   "source": [
    "## while"
   ]
  },
  {
   "cell_type": "markdown",
   "metadata": {},
   "source": [
    "* Buatlah program yang menghitung total semua angka genap dari 1 sampai 100, gunakan 'while' loop"
   ]
  },
  {
   "cell_type": "code",
   "execution_count": 5,
   "metadata": {},
   "outputs": [
    {
     "name": "stdout",
     "output_type": "stream",
     "text": [
      "Sum of even numbers from 1 to 100: 2550\n"
     ]
    }
   ],
   "source": [
    "total = 0\n",
    "num = 2\n",
    "\n",
    "while num <= 100:\n",
    "    total += num\n",
    "    num += 2\n",
    "\n",
    "print(\"Sum of even numbers from 1 to 100:\", total)"
   ]
  },
  {
   "cell_type": "markdown",
   "metadata": {},
   "source": [
    "* Buatlah program yang terus meminta input user untuk memasukkan password hingga password \"secret\" terinput"
   ]
  },
  {
   "cell_type": "code",
   "execution_count": 6,
   "metadata": {},
   "outputs": [
    {
     "name": "stdout",
     "output_type": "stream",
     "text": [
      "Incorrect password. Try again.\n",
      "Incorrect password. Try again.\n",
      "Incorrect password. Try again.\n",
      "Incorrect password. Try again.\n",
      "Incorrect password. Try again.\n",
      "Incorrect password. Try again.\n",
      "Incorrect password. Try again.\n",
      "Incorrect password. Try again.\n",
      "Access granted!\n"
     ]
    }
   ],
   "source": [
    "password = \"secret\"\n",
    "\n",
    "while True:\n",
    "    user_input = input(\"Enter the password: \")\n",
    "    if user_input == password:\n",
    "        print(\"Access granted!\")\n",
    "        break\n",
    "    else:\n",
    "        print(\"Incorrect password. Try again.\")"
   ]
  },
  {
   "cell_type": "markdown",
   "metadata": {},
   "source": [
    "## for"
   ]
  },
  {
   "cell_type": "markdown",
   "metadata": {},
   "source": [
    "* buatlah program yang membuat tabel multiplikasi untuk sebuah angka dari 1* num hingga 10*num. gunakan ‘for’ loop.\n"
   ]
  },
  {
   "cell_type": "code",
   "execution_count": 7,
   "metadata": {},
   "outputs": [
    {
     "name": "stdout",
     "output_type": "stream",
     "text": [
      "3 x 1 = 3\n",
      "3 x 2 = 6\n",
      "3 x 3 = 9\n",
      "3 x 4 = 12\n",
      "3 x 5 = 15\n",
      "3 x 6 = 18\n",
      "3 x 7 = 21\n",
      "3 x 8 = 24\n",
      "3 x 9 = 27\n",
      "3 x 10 = 30\n"
     ]
    }
   ],
   "source": [
    "num = int(input(\"Enter a number: \"))\n",
    "\n",
    "for i in range(1, 11):\n",
    "    print(f\"{num} x {i} = {num * i}\")"
   ]
  },
  {
   "cell_type": "markdown",
   "metadata": {},
   "source": [
    "* buatlah program yang menghitung jumlah huruf hidup dalam sebuah string"
   ]
  },
  {
   "cell_type": "code",
   "execution_count": 8,
   "metadata": {},
   "outputs": [
    {
     "name": "stdout",
     "output_type": "stream",
     "text": [
      "Number of vowels in the string: 3\n"
     ]
    }
   ],
   "source": [
    "text = input(\"Enter a string: \")\n",
    "text = text.lower() # to lowercase\n",
    "vowel_count = 0\n",
    "\n",
    "for char in text:\n",
    "    if char in \"aiueo\":\n",
    "        vowel_count += 1\n",
    "\n",
    "print(f\"Number of vowels in the string: {vowel_count}\")\n"
   ]
  },
  {
   "cell_type": "markdown",
   "metadata": {},
   "source": [
    "## Function"
   ]
  },
  {
   "cell_type": "markdown",
   "metadata": {},
   "source": [
    "* Buatlah sebuah fungsi bernama `sapa` yang menerima satu argumen berupa nama dan mencetak pesan sapaan. Panggil fungsi tersebut dengan nama \"John\"."
   ]
  },
  {
   "cell_type": "code",
   "execution_count": 9,
   "metadata": {},
   "outputs": [
    {
     "name": "stdout",
     "output_type": "stream",
     "text": [
      "Halo, John!\n"
     ]
    }
   ],
   "source": [
    "def sapa(nama):\n",
    "    print(f\"Halo, {nama}!\")\n",
    "\n",
    "sapa(\"John\")"
   ]
  },
  {
   "cell_type": "markdown",
   "metadata": {},
   "source": [
    "* Buatlah sebuah fungsi `kuadrat` yang menerima satu angka sebagai argumen dan mengembalikan kuadrat dari angka tersebut. Cobalah fungsi ini dengan beberapa angka."
   ]
  },
  {
   "cell_type": "code",
   "execution_count": 10,
   "metadata": {},
   "outputs": [
    {
     "name": "stdout",
     "output_type": "stream",
     "text": [
      "25\n"
     ]
    }
   ],
   "source": [
    "def kuadrat(angka):\n",
    "    return angka ** 2\n",
    "\n",
    "hasil = kuadrat(5)\n",
    "print(hasil)"
   ]
  },
  {
   "cell_type": "markdown",
   "metadata": {},
   "source": [
    "* Buatlah sebuah fungsi `hitung_luas_persegi` yang menerima dua argumen: panjang dan lebar. Fungsi ini mengembalikan luas persegi tersebut. Jika salah satu argumen tidak disediakan, gunakan nilai default 1.0."
   ]
  },
  {
   "cell_type": "code",
   "execution_count": 11,
   "metadata": {},
   "outputs": [
    {
     "name": "stdout",
     "output_type": "stream",
     "text": [
      "12\n"
     ]
    }
   ],
   "source": [
    "def hitung_luas_persegi(panjang=1.0, lebar=1.0):\n",
    "    return panjang * lebar\n",
    "\n",
    "luas = hitung_luas_persegi(4, 3)\n",
    "print(luas)"
   ]
  },
  {
   "cell_type": "markdown",
   "metadata": {},
   "source": [
    "* Buatlah sebuah fungsi `bentuk_nama` yang menerima dua argumen: nama_depan dan nama_belakang. Fungsi ini mengembalikan nama lengkap. Jika nama_belakang tidak disediakan, gunakan string kosong untuk nama_belakang.20\n"
   ]
  },
  {
   "cell_type": "code",
   "execution_count": 12,
   "metadata": {},
   "outputs": [
    {
     "name": "stdout",
     "output_type": "stream",
     "text": [
      "John Doe\n"
     ]
    }
   ],
   "source": [
    "def bentuk_nama(nama_depan, nama_belakang =\"\"):\n",
    "    return f\"{nama_depan} {nama_belakang}\"\n",
    "\n",
    "nama = bentuk_nama(\"John\", \"Doe\")\n",
    "print(nama)"
   ]
  },
  {
   "cell_type": "markdown",
   "metadata": {},
   "source": [
    "* Buatlah sebuah fungsi `konversi_fahrenheit_ke_celcius` yang menerima suhu dalam Fahrenheit dan mengembalikan suhu tersebut dalam Celcius. Rumus konversi adalah: Celsius = (Fahrenheit - 32) * 5/9"
   ]
  },
  {
   "cell_type": "code",
   "execution_count": 13,
   "metadata": {},
   "outputs": [
    {
     "name": "stdout",
     "output_type": "stream",
     "text": [
      "37.0\n"
     ]
    }
   ],
   "source": [
    "def konversi_fahrenheit_ke_celsius(fahrenheit):\n",
    "    celsius = (fahrenheit - 32) * 5/9\n",
    "    return celsius\n",
    "\n",
    "suhu_celsius = konversi_fahrenheit_ke_celsius(98.6)\n",
    "print(suhu_celsius)"
   ]
  },
  {
   "cell_type": "markdown",
   "metadata": {},
   "source": [
    "* Buatlah sebuah fungsi `hitung_pangkat` yang menerima dua argumen: angka dan pangkat. Fungsi ini mengembalikan hasil dari angka pangkat pangkat."
   ]
  },
  {
   "cell_type": "code",
   "execution_count": 16,
   "metadata": {},
   "outputs": [
    {
     "name": "stdout",
     "output_type": "stream",
     "text": [
      "8\n"
     ]
    }
   ],
   "source": [
    "def hitung_pangkat(angka, pangkat):\n",
    "    hasil = 1\n",
    "    for _ in range(pangkat):\n",
    "        hasil *= angka\n",
    "    return hasil\n",
    "\n",
    "pangkat = hitung_pangkat(2, 3)\n",
    "print(pangkat)"
   ]
  },
  {
   "cell_type": "markdown",
   "metadata": {},
   "source": [
    "## Module - membuat module"
   ]
  },
  {
   "cell_type": "markdown",
   "metadata": {},
   "source": [
    "1. Buat file Python baru dengan nama my_module.py.\n",
    "\n",
    "2. Di dalam file my_module.py, definisikan beberapa fungsi atau variabel. Misalnya:\n",
    "\n",
    "```\n",
    "# my_module.py\n",
    "\n",
    "def greet(name):    \n",
    "    return f\"Hello, {name}!\"\n",
    "    \n",
    "pi = 3.14159265359\n",
    "    \n",
    "def square(x):    \n",
    "    return x ** 2\n",
    "```"
   ]
  },
  {
   "cell_type": "markdown",
   "metadata": {},
   "source": [
    "## Module - menggunakan module"
   ]
  },
  {
   "cell_type": "markdown",
   "metadata": {},
   "source": [
    "1. Buat sebuah file Python terpisah dengan nama main.py yang akan menggunakan modul yang telah Anda buat.\n",
    "2. Di dalam file main.py, import modul my_module dan panggil fungsi serta variabel yang ada di dalamnya"
   ]
  },
  {
   "cell_type": "code",
   "execution_count": 1,
   "metadata": {},
   "outputs": [
    {
     "name": "stdout",
     "output_type": "stream",
     "text": [
      "Hello, Alice\n",
      "Luas lingkaran dengan radius 5 adalah 78.54\n"
     ]
    }
   ],
   "source": [
    "# try my_module.py in notebook\n",
    "\n",
    "# main.py\n",
    "import my_module\n",
    "\n",
    "# Menggunakan fungsi dari my_module\n",
    "message = my_module.greet(\"Alice\")\n",
    "print(message)\n",
    "\n",
    "# Menggunakan variabel dari my_module\n",
    "radius = 5\n",
    "area = my_module.pi * my_module.square(radius)\n",
    "print(f\"Luas lingkaran dengan radius {radius} adalah {area:.2f}\")"
   ]
  },
  {
   "cell_type": "markdown",
   "metadata": {},
   "source": [
    "## Script"
   ]
  },
  {
   "cell_type": "markdown",
   "metadata": {},
   "source": [
    "**Kalkulator Sederhana**\n",
    "\n",
    "Buatlah sebuah skrip Python yang meminta pengguna untuk memasukkan dua angka dan operasi matematika (+, -, *, /). Skrip tersebut kemudian menghitung dan mencetak hasil operasi tersebut."
   ]
  },
  {
   "cell_type": "code",
   "execution_count": 3,
   "metadata": {},
   "outputs": [
    {
     "name": "stdout",
     "output_type": "stream",
     "text": [
      "Pilih operasi:\n",
      "1. Tambah\n",
      "2. Kurang\n",
      "3. Kali\n",
      "4. Bagi\n",
      "5. Keluar\n",
      "Hasil: 8.0\n",
      "Pilih operasi:\n",
      "1. Tambah\n",
      "2. Kurang\n",
      "3. Kali\n",
      "4. Bagi\n",
      "5. Keluar\n",
      "Keluar dari kalkulator\n"
     ]
    }
   ],
   "source": [
    "# try kalkulator_sederhana.py in notebook\n",
    "\n",
    "def tambah(x, y):    \n",
    "    return x + y\n",
    "\n",
    "def kurang(x, y):    \n",
    "    return x - y\n",
    "\n",
    "def kali(x, y):    \n",
    "    return x * y\n",
    "\n",
    "def bagi(x, y):    \n",
    "    if y == 0:        \n",
    "        return \"Tidak bisa dibagi oleh 0\"    \n",
    "    return x / y\n",
    "\n",
    "while True:    \n",
    "    print(\"Pilih operasi:\")    \n",
    "    print(\"1. Tambah\")    \n",
    "    print(\"2. Kurang\")    \n",
    "    print(\"3. Kali\")    \n",
    "    print(\"4. Bagi\")    \n",
    "    print(\"5. Keluar\")    \n",
    "    \n",
    "    pilihan = input(\"Masukkan nomor operasi (1/2/3/4/5): \")    \n",
    "    \n",
    "    if pilihan == '5':        \n",
    "        print(\"Keluar dari kalkulator\")        \n",
    "        break    \n",
    "    \n",
    "    angka1 = float(input(\"Masukkan angka pertama: \"))    \n",
    "    angka2 = float(input(\"Masukkan angka kedua: \"))    \n",
    "    \n",
    "    if pilihan == '1':        \n",
    "        print(\"Hasil:\", tambah(angka1, angka2))    \n",
    "    elif pilihan == '2':        \n",
    "        print(\"Hasil:\", kurang(angka1, angka2))    \n",
    "    elif pilihan == '3':        \n",
    "        print(\"Hasil:\", kali(angka1, angka2))    \n",
    "    elif pilihan == '4':        \n",
    "        print(\"Hasil:\", bagi(angka1, angka2))    \n",
    "    else:        \n",
    "        print(\"Pilihan tidak valid\")\n"
   ]
  },
  {
   "cell_type": "markdown",
   "metadata": {},
   "source": [
    "**Daftar Belanja**\n",
    "\n",
    "Buatlah skrip Python yang memungkinkan pengguna untuk membuat daftar belanja. Pengguna harus dapat menambahkan, menghapus, dan melihat item pada daftar belanja.\n"
   ]
  },
  {
   "cell_type": "code",
   "execution_count": 4,
   "metadata": {},
   "outputs": [
    {
     "name": "stdout",
     "output_type": "stream",
     "text": [
      "Apa yang ingin Anda lakukan?\n",
      "1. Tambah item ke daftar belanja\n",
      "2. Hapus item dari daftar belanja\n",
      "3. Tampilkan daftar belanja\n",
      "4. Keluar.\n",
      "apel telah ditambahkan ke daftar belanja.\n",
      "Apa yang ingin Anda lakukan?\n",
      "1. Tambah item ke daftar belanja\n",
      "2. Hapus item dari daftar belanja\n",
      "3. Tampilkan daftar belanja\n",
      "4. Keluar.\n",
      "Keluar dari daftar belanja\n"
     ]
    }
   ],
   "source": [
    "# try daftar_belanja.py in notebook\n",
    "\n",
    "shopping_list = []\n",
    "\n",
    "def tambah_item(item):\n",
    "    shopping_list.append(item)\n",
    "    print(f\"{item} telah ditambahkan ke daftar belanja.\")\n",
    "\n",
    "def hapus_item(item):\n",
    "    if item in shopping_list:\n",
    "        shopping_list.remove(item)\n",
    "        print(f\"{item} telah dihapus dari daftar belanja.\")\n",
    "    else:\n",
    "        print(f\"{item} tidak ditemukan dalam daftar belanja.\")\n",
    "\n",
    "def tampilkan_daftar():\n",
    "    print(\"Daftar Belanja:\")\n",
    "    for item in shopping_list:\n",
    "        print(\"-\", item)\n",
    "\n",
    "while True:\n",
    "    print(\"Apa yang ingin Anda lakukan?\")\n",
    "    print(\"1. Tambah item ke daftar belanja\")\n",
    "    print(\"2. Hapus item dari daftar belanja\")\n",
    "    print(\"3. Tampilkan daftar belanja\")\n",
    "    print(\"4. Keluar.\")\n",
    "\n",
    "    pilihan = input(\"Pilih tindakan (1/2/3/4):\")\n",
    "    if pilihan == '1':\n",
    "        item = input(\"Masukkan item yang ingin ditambahkan: \")\n",
    "        tambah_item(item)\n",
    "    elif pilihan == '2':\n",
    "        item = input(\"Masukkan item yang ingin dihapus: \")\n",
    "        hapus_item(item)\n",
    "    elif pilihan == '3':\n",
    "        tampilkan_daftar()\n",
    "    elif pilihan == '4':\n",
    "        print(\"Keluar dari daftar belanja\")\n",
    "        break\n",
    "    else:\n",
    "        print(\"Piihan tidak valid\")"
   ]
  },
  {
   "cell_type": "markdown",
   "metadata": {},
   "source": [
    "**Kalkulator BMI (Body Mass Index)**\n",
    "\n",
    "Buatlah sebuah skrip Python yang meminta pengguna untuk memasukkan berat (kg) dan tinggi (cm), kemudian menghitung dan mencetak BMI mereka bersama dengan kategori BMI (Kurus, Normal, Gemuk).32\n"
   ]
  },
  {
   "cell_type": "code",
   "execution_count": 8,
   "metadata": {},
   "outputs": [
    {
     "name": "stdout",
     "output_type": "stream",
     "text": [
      "BMI Anda adalah 18.59 (Normal).\n"
     ]
    }
   ],
   "source": [
    "# try kalkulator_bmi.py in notebook\n",
    "\n",
    "def hitung_bmi(berat, tinggi):\n",
    "    tinggi_m = tinggi / 100\n",
    "    bmi = berat / (tinggi_m ** 2)\n",
    "    return bmi\n",
    "\n",
    "def kategori_bmi(bmi):\n",
    "    if bmi < 18.5:\n",
    "        return \"Kurus\"\n",
    "    elif 18.5 <= bmi < 24.9:\n",
    "        return \"Normal\"\n",
    "    elif 25 <= bmi < 29.9:\n",
    "        return \"Gemuk\"\n",
    "    else:\n",
    "        return \"Obesitas\"\n",
    "    \n",
    "berat = float(input(\"masukkan berat badan (kg): \"))\n",
    "tinggi = float(input(\"Masukkan tinggi badan (cm): \"))\n",
    "\n",
    "bmi = hitung_bmi(berat, tinggi)\n",
    "kategori = kategori_bmi(bmi)\n",
    "\n",
    "print(f\"BMI Anda adalah {bmi:.2f} ({kategori}).\")"
   ]
  },
  {
   "cell_type": "markdown",
   "metadata": {},
   "source": [
    "**Pencarian Kata dalam Teks**\n",
    "\n",
    "Buatlah skrip Python yang meminta pengguna untuk memasukkan sebuah kata atau frasa, dan kemudian mencari kata/frasa tersebut dalam teks yang telah ditentukan sebelumnya. Skrip tersebut harus memberi tahu pengguna apakah kata/frasa tersebut ditemukan atau tidak.34\n"
   ]
  },
  {
   "cell_type": "code",
   "execution_count": 9,
   "metadata": {},
   "outputs": [
    {
     "name": "stdout",
     "output_type": "stream",
     "text": [
      "'apa' tidak ditemukan dalam teks.\n"
     ]
    }
   ],
   "source": [
    "# try pencarian_kata.py in notebook\n",
    "\n",
    "teks = \"\"\"Ini adalah contoh teks.\n",
    "Teks ini digunakan untuk latihan pencarian kata.\"\"\"\n",
    "\n",
    "kata_cari = input(\"Masukkan kata yang ingin Anda cari: \")\n",
    "\n",
    "if kata_cari in teks:\n",
    "    print(f\"'{kata_cari}' dotemukan dalam teks.\")\n",
    "else:\n",
    "    print(f\"'{kata_cari}' tidak ditemukan dalam teks.\")"
   ]
  },
  {
   "cell_type": "markdown",
   "metadata": {},
   "source": [
    "**Konversi Mata Uang**\n",
    "\n",
    "Buatlah skrip Python yang memungkinkan pengguna untuk mengonversi jumlah uang dari satu mata uang ke mata uang lainnya berdasarkan nilai tukar.36\n"
   ]
  },
  {
   "cell_type": "code",
   "execution_count": 10,
   "metadata": {},
   "outputs": [
    {
     "name": "stdout",
     "output_type": "stream",
     "text": [
      "2000000.0 USD setara dengan 29000000000.0 IDR.\n"
     ]
    }
   ],
   "source": [
    "# try konversi_matauang.py in notebook\n",
    "\n",
    "def konversi_mata_uang(jumlah, nilai_tukar):    \n",
    "    return jumlah * nilai_tukar\n",
    "\n",
    "nilai_tukar_usd_ke_idr = 14500  \n",
    "\n",
    "jumlah_usd = float(input(\"Masukkan jumlah dalam USD: \"))\n",
    "jumlah_idr = konversi_mata_uang(jumlah_usd, nilai_tukar_usd_ke_idr)\n",
    "\n",
    "print(f\"{jumlah_usd} USD setara dengan {jumlah_idr} IDR.\")"
   ]
  },
  {
   "cell_type": "markdown",
   "metadata": {},
   "source": [
    "## read & write from excel"
   ]
  },
  {
   "cell_type": "markdown",
   "metadata": {},
   "source": [
    "* Buat program Python yang membaca data dari file Excel dan menampilkan data tersebut. Program ini juga harus memungkinkan pengguna untuk menambahkan data baru dan menyimpannya kembali ke file Excel."
   ]
  },
  {
   "cell_type": "code",
   "execution_count": null,
   "metadata": {},
   "outputs": [],
   "source": [
    "import pandas as pd\n",
    "\n",
    "def baca_data_excel(nama_file):    \n",
    "    df = pd.read_excel(nama_file)    \n",
    "    return df\n",
    "\n",
    "def tulis_data_excel(nama_file, df):    \n",
    "    df.to_excel(nama_file, index=False)\n",
    "    \n",
    "def main():    \n",
    "    nama_file = 'produk.xlsx'    \n",
    "    produk = baca_data_excel(nama_file)    \n",
    "    \n",
    "    print(\"Data Produk:\")    \n",
    "    print(produk)    \n",
    "    \n",
    "    tambah_produk = input(\"Tambah produk baru? (y/n): \")    \n",
    "    if tambah_produk.lower() == 'y':        \n",
    "        nama_produk = input(\"Nama produk: \")        \n",
    "        harga_produk = input(\"Harga produk (IDR): \")        \n",
    "        stok_produk = input(\"Stok produk: \")        \n",
    "        \n",
    "        produk_baru = {'Nama Produk': nama_produk, 'Harga': harga_produk, 'Stok': stok_produk}        \n",
    "        produk = produk.append(produk_baru, ignore_index=True)        \n",
    "        \n",
    "        tulis_data_excel(nama_file, produk)        \n",
    "        print(\"Produk berhasil ditambahkan dan disimpan.\")\n",
    "        \n",
    "if __name__ == \"__main__\":    \n",
    "    main()\n"
   ]
  },
  {
   "cell_type": "markdown",
   "metadata": {},
   "source": [
    "## read & write from sql"
   ]
  },
  {
   "cell_type": "markdown",
   "metadata": {},
   "source": [
    "* Buatlah program Python yang berinteraksi dengan database SQL (misalnya, SQLite) untuk membaca data dari tabel dan menambahkan data baru ke dalam tabel tersebut."
   ]
  },
  {
   "cell_type": "code",
   "execution_count": null,
   "metadata": {},
   "outputs": [],
   "source": [
    "import sqlite3\n",
    "\n",
    "# Fungsi untuk membaca data dari tabel\n",
    "def baca_data_sqlite(database_file):    \n",
    "    connection = sqlite3.connect(database_file)    \n",
    "    cursor = connection.cursor()    \n",
    "    cursor.execute(\"SELECT * FROM produk\")    \n",
    "    data = cursor.fetchall()    \n",
    "    connection.close()    \n",
    "    return data\n",
    "\n",
    "# Fungsi untuk menambahkan data ke dalam tabel\n",
    "def tambah_data_sqlite(database_file, nama_produk, harga, stok):    \n",
    "    connection = sqlite3.connect(database_file)    \n",
    "    cursor = connection.cursor()    \n",
    "    cursor.execute(\"INSERT INTO produk (nama_produk, harga, stok) VALUES (?, ?, ?)\",                   \n",
    "                   (nama_produk, harga, stok))    \n",
    "    connection.commit()    \n",
    "    connection.close()\n",
    "    \n",
    "def main():    \n",
    "    database_file = 'produk.db'    \n",
    "    produk = baca_data_sqlite(database_file)    \n",
    "    \n",
    "    print(\"Data Produk:\")    \n",
    "    for item in produk:        \n",
    "        print(f\"{item[1]}: {item[2]} IDR, Stok: {item[3]}\")    \n",
    "        \n",
    "    tambah_produk = input(\"Tambah produk baru? (y/n): \")    \n",
    "    if tambah_produk.lower() == 'y':        \n",
    "        nama_produk = input(\"Nama produk: \")        \n",
    "        harga_produk = input(\"Harga produk (IDR): \")        \n",
    "        stok_produk = input(\"Stok produk: \")        \n",
    "        \n",
    "        tambah_data_sqlite(database_file, nama_produk, harga_produk, stok_produk)        \n",
    "        print(\"Produk berhasil ditambahkan dan disimpan.\")\n",
    "        \n",
    "if __name__ == \"__main__\":    \n",
    "    main()\n"
   ]
  },
  {
   "cell_type": "markdown",
   "metadata": {},
   "source": [
    "## read & write from csv"
   ]
  },
  {
   "cell_type": "markdown",
   "metadata": {},
   "source": [
    "* Buatlah sebuah program Python yang membaca data dari file CSV yang berisi informasi produk (contoh: nama produk, harga, stok) dan menampilkannya di layar. \n",
    "* Setelah itu, program ini harus memungkinkan pengguna untuk menambahkan produk baru dan menyimpannya kembali ke file CSV."
   ]
  },
  {
   "cell_type": "code",
   "execution_count": null,
   "metadata": {},
   "outputs": [],
   "source": [
    "import csv\n",
    "\n",
    "def baca_data_csv(nama_file):    \n",
    "    data = []    \n",
    "    with open(nama_file, mode='r') as file:        \n",
    "        csv_reader = csv.DictReader(file)        \n",
    "        for row in csv_reader:            \n",
    "            data.append(row)    \n",
    "    return data\n",
    "\n",
    "def tulis_data_csv(nama_file, data):    \n",
    "    with open(nama_file, mode='w', newline='') as file:        \n",
    "        fieldnames = data[0].keys()        \n",
    "        writer = csv.DictWriter(file, fieldnames=fieldnames)        \n",
    "        writer.writeheader()        \n",
    "        writer.writerows(data)\n",
    "        \n",
    "def main():    \n",
    "    nama_file = 'produk.csv'    \n",
    "    produk = baca_data_csv(nama_file)    \n",
    "    \n",
    "    print(\"Data Produk:\")    \n",
    "    for item in produk:        \n",
    "        print(f\"{item['Nama Produk']}: {item['Harga']} IDR, Stok: {item['Stok']}\")    \n",
    "        \n",
    "    tambah_produk = input(\"Tambah produk baru? (y/n): \")    \n",
    "    if tambah_produk.lower() == 'y':        \n",
    "        nama_produk = input(\"Nama produk: \")        \n",
    "        harga_produk = input(\"Harga produk (IDR): \")        \n",
    "        stok_produk = input(\"Stok produk: \")        \n",
    "        \n",
    "        produk_baru = {'Nama Produk': nama_produk, 'Harga': harga_produk, 'Stok': stok_produk}        \n",
    "        produk.append(produk_baru)        \n",
    "        tulis_data_csv(nama_file, produk)        \n",
    "        print(\"Produk berhasil ditambahkan dan disimpan.\")\n",
    "\n",
    "if __name__ == \"__main__\":    \n",
    "    main()"
   ]
  },
  {
   "cell_type": "markdown",
   "metadata": {},
   "source": [
    "# Thank You"
   ]
  }
 ],
 "metadata": {
  "kernelspec": {
   "display_name": "base",
   "language": "python",
   "name": "python3"
  },
  "language_info": {
   "codemirror_mode": {
    "name": "ipython",
    "version": 3
   },
   "file_extension": ".py",
   "mimetype": "text/x-python",
   "name": "python",
   "nbconvert_exporter": "python",
   "pygments_lexer": "ipython3",
   "version": "3.11.5"
  }
 },
 "nbformat": 4,
 "nbformat_minor": 2
}
